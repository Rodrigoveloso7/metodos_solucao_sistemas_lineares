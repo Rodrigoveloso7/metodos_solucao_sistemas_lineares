{
  "nbformat": 4,
  "nbformat_minor": 0,
  "metadata": {
    "colab": {
      "provenance": [],
      "authorship_tag": "ABX9TyNnOJzy/1TwLePYeKzkKwhC",
      "include_colab_link": true
    },
    "kernelspec": {
      "name": "python3",
      "display_name": "Python 3"
    },
    "language_info": {
      "name": "python"
    }
  },
  "cells": [
    {
      "cell_type": "markdown",
      "metadata": {
        "id": "view-in-github",
        "colab_type": "text"
      },
      "source": [
        "<a href=\"https://colab.research.google.com/github/Rodrigoveloso7/metodos_solucao_sistemas_lineares/blob/main/TDMA.ipynb\" target=\"_parent\"><img src=\"https://colab.research.google.com/assets/colab-badge.svg\" alt=\"Open In Colab\"/></a>"
      ]
    },
    {
      "cell_type": "code",
      "execution_count": 26,
      "metadata": {
        "id": "q7swnX75wzNU"
      },
      "outputs": [],
      "source": [
        "import numpy as np"
      ]
    },
    {
      "cell_type": "markdown",
      "source": [
        "DEFININDO FUNÇÃO DO SOLVER"
      ],
      "metadata": {
        "id": "KgqTo5B9bhzy"
      }
    },
    {
      "cell_type": "code",
      "source": [
        "def tdma_solver(matriz_coef,b):\n",
        "  N = len(matriz_coef)-2\n",
        "  Pp = [0]*(N+2)\n",
        "  Qp = [0]*(N+2)\n",
        "  #Definindo P0 e Q0\n",
        "  P0 = matriz_coef[0][1]/matriz_coef[0][0]\n",
        "  Q0 = b[0]/matriz_coef[0][0]\n",
        "\n",
        "  Pp[0] = P0\n",
        "  Qp[0] = Q0\n",
        "\n",
        "  print(len(Pp))\n",
        "  #Definindo Pp e Qp\n",
        "  for p in range(1,N+1):\n",
        "    Pp[p] =(matriz_coef[p][p+1])/(matriz_coef[p][p]-(matriz_coef[p][p-1]*Pp[p-1]))\n",
        "  Pp[N+1] = 0\n",
        "  for p in range(1,N+2):\n",
        "    Qp[p] =(b[p]+matriz_coef[p][p-1]*Qp[p-1])/(matriz_coef[p][p]-(matriz_coef[p][p-1]*Pp[p-1]))\n",
        "\n",
        "  Tn = [0]*(N+2)\n",
        "  Tn[N+1] = Qp[N+1]\n",
        "  for i in range(N,-1,-1):\n",
        "    Tn[i] = Pp[i]*Tn[i+1]+Qp[i]\n",
        "\n",
        "\n",
        "\n",
        "  return print(Tn)"
      ],
      "metadata": {
        "id": "F8BNw0rRxQUo"
      },
      "execution_count": 31,
      "outputs": []
    },
    {
      "cell_type": "markdown",
      "source": [
        "EXEMPLO DE APLICAÇÃO"
      ],
      "metadata": {
        "id": "al1TGO8aPnvn"
      }
    },
    {
      "cell_type": "markdown",
      "source": [
        "![image.png](data:image/png;base64,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)"
      ],
      "metadata": {
        "id": "ESe8UpIVWp3B"
      }
    },
    {
      "cell_type": "markdown",
      "source": [
        "[A] = [x][B]"
      ],
      "metadata": {
        "id": "WVOMoy2nPOHh"
      }
    },
    {
      "cell_type": "code",
      "source": [
        "T0 = 0\n",
        "TL =1"
      ],
      "metadata": {
        "id": "eb_Tk8uZeK1J"
      },
      "execution_count": null,
      "outputs": []
    },
    {
      "cell_type": "markdown",
      "source": [
        "DEFINIÇÃO DA MATRIZ DE COEFICIENTES"
      ],
      "metadata": {
        "id": "Kd11v_W8bSPP"
      }
    },
    {
      "cell_type": "code",
      "source": [
        "linha_0 = [1,0,0,0,0,0,0,0,0,0,0]\n",
        "linha_1 = [1,2,1,0,0,0,0,0,0,0,0]\n",
        "linha_2 = [0,1,2,1,0,0,0,0,0,0,0]\n",
        "linha_3 = [0,0,1,2,1,0,0,0,0,0,0]\n",
        "linha_4 = [0,0,0,1,2,1,0,0,0,0,0]\n",
        "linha_5 = [0,0,0,0,1,2,1,0,0,0,0]\n",
        "linha_6 = [0,0,0,0,0,1,2,1,0,0,0]\n",
        "linha_7 = [0,0,0,0,0,0,1,2,1,0,0]\n",
        "linha_8 = [0,0,0,0,0,0,0,1,2,1,0]\n",
        "linha_9 = [0,0,0,0,0,0,0,0,1,2,1]\n",
        "linha_10 =[0,0,0,0,0,0,0,0,0,0,1]"
      ],
      "metadata": {
        "id": "HFQu_1RPyM6z"
      },
      "execution_count": null,
      "outputs": []
    },
    {
      "cell_type": "code",
      "source": [
        "matriz_coef =[linha_0,linha_1,linha_2,linha_3,linha_4,linha_5,linha_6,linha_7,linha_8,linha_9,linha_10]"
      ],
      "metadata": {
        "id": "46IdGN8cQSy9"
      },
      "execution_count": null,
      "outputs": []
    },
    {
      "cell_type": "code",
      "source": [
        "b = [T0,0,0,0,0,0,0,0,0,0,TL]"
      ],
      "metadata": {
        "id": "3BHrWqvlmq_z"
      },
      "execution_count": null,
      "outputs": []
    },
    {
      "cell_type": "code",
      "source": [
        "tdma_solver(matriz_coef,b)"
      ],
      "metadata": {
        "colab": {
          "base_uri": "https://localhost:8080/"
        },
        "id": "GpyJyGdYxdlZ",
        "outputId": "43f69d1f-55f4-4512-9c40-aa13688d296b"
      },
      "execution_count": 32,
      "outputs": [
        {
          "output_type": "stream",
          "name": "stdout",
          "text": [
            "11\n",
            "[0.0, 0.09999999999999995, 0.1999999999999999, 0.2999999999999999, 0.3999999999999999, 0.4999999999999999, 0.5999999999999999, 0.6999999999999998, 0.7999999999999998, 0.8999999999999999, 1.0]\n"
          ]
        }
      ]
    }
  ]
}